{
 "cells": [
  {
   "cell_type": "markdown",
   "id": "5abbbe63",
   "metadata": {
    "id": "5abbbe63"
   },
   "source": [
    "# 　　Build your `Recurrent Neural Network (RNN)` for Deep Learning\n",
    "# 　　　　　　on Stock Price `Time-Series Forecasting` Task"
   ]
  },
  {
   "cell_type": "markdown",
   "id": "e07a8095",
   "metadata": {
    "id": "e07a8095"
   },
   "source": [
    " "
   ]
  },
  {
   "cell_type": "markdown",
   "id": "30b44078",
   "metadata": {
    "id": "30b44078"
   },
   "source": [
    "  "
   ]
  },
  {
   "cell_type": "markdown",
   "id": "4ddb5b74",
   "metadata": {
    "id": "4ddb5b74"
   },
   "source": [
    "  "
   ]
  },
  {
   "cell_type": "markdown",
   "id": "8cedb437",
   "metadata": {
    "id": "8cedb437"
   },
   "source": [
    "   "
   ]
  },
  {
   "cell_type": "markdown",
   "id": "1c78a92d",
   "metadata": {
    "id": "1c78a92d"
   },
   "source": [
    " "
   ]
  },
  {
   "cell_type": "markdown",
   "id": "90c3cbb9",
   "metadata": {
    "id": "90c3cbb9"
   },
   "source": [
    "## Task Overview \n",
    "<img src=\"https://svencarlin.com/wp-content/uploads/2020/02/bac-stock.png\" width=\"500\">\n",
    "　　　　　　　　　　　　　　　　　　　　　　　　　　　　　<strong>An Example Stock Chart</strong>\n",
    "                                              \n",
    "The Recurrent Neural Networks (RNNs) are in form of advanced neural networks which have internal memories that are capable of processing long sequences. This makes RNN very suitable for forecasting or predicting an outcome that relies on some form of historical context. The Time-series forecasting is to predict future values based on previously observed values in the time sequence. These all make the Stock Price Forecasting a fascinating application for RNN to work with its long historical data in the form of sequence of time.   \n",
    "\n",
    "You will resolve a `Stock Price Forecasting` task, which is to predict the future value based on a sequence of previously observed values, by building an architecture of a `Recurrent Neural Network`(`RNN`), `implementing` with Python, and `training` your model on a set of time-series stock price data as a supervised learning procedure. Finally, you will `evaluate` your model's accuracy using test dataset.\n",
    "\n",
    "The `TensorFlow 2.x` platform and its integrated version of `Keras API` (versus the traditional Keras Package) should be the handy tools for you to complete this task. Please take advantage of the official well supported TensorFlow & Keras [`Help Documentations`](https://www.tensorflow.org/api_docs/python/tf/keras) for correct usages of the API and functions. \n"
   ]
  },
  {
   "cell_type": "markdown",
   "id": "0cec2fc9",
   "metadata": {
    "id": "0cec2fc9"
   },
   "source": [
    "  "
   ]
  },
  {
   "cell_type": "markdown",
   "id": "f5a172d5",
   "metadata": {
    "id": "f5a172d5"
   },
   "source": [
    "   "
   ]
  },
  {
   "cell_type": "markdown",
   "id": "e6e8b7b4",
   "metadata": {
    "id": "e6e8b7b4"
   },
   "source": [
    "  "
   ]
  },
  {
   "cell_type": "markdown",
   "id": "9883b4ba",
   "metadata": {
    "id": "9883b4ba"
   },
   "source": [
    "## Setup Development Environment"
   ]
  },
  {
   "cell_type": "markdown",
   "id": "eb07433e",
   "metadata": {
    "id": "eb07433e"
   },
   "source": [
    "##### Import Modules/Packages "
   ]
  },
  {
   "cell_type": "code",
   "execution_count": 1,
   "id": "7bfc083e",
   "metadata": {
    "id": "7bfc083e"
   },
   "outputs": [
    {
     "name": "stderr",
     "output_type": "stream",
     "text": [
      "2023-07-06 17:38:25.897421: I tensorflow/core/platform/cpu_feature_guard.cc:193] This TensorFlow binary is optimized with oneAPI Deep Neural Network Library (oneDNN) to use the following CPU instructions in performance-critical operations:  SSE4.1 SSE4.2 AVX AVX2 FMA\n",
      "To enable them in other operations, rebuild TensorFlow with the appropriate compiler flags.\n"
     ]
    }
   ],
   "source": [
    "## Import related Modules for TensorFlow framework and Keras API\n",
    "\n",
    "import tensorflow as tf\n",
    "\n",
    "from tensorflow import keras \n",
    "\n",
    "from tensorflow.keras import layers, optimizers  \n",
    "\n",
    "import numpy as np\n",
    "\n",
    "import pandas as pd\n",
    "from sklearn.preprocessing import MinMaxScaler\n",
    "import matplotlib.pyplot as plt   "
   ]
  },
  {
   "cell_type": "markdown",
   "id": "25236641",
   "metadata": {
    "id": "25236641"
   },
   "source": [
    "  "
   ]
  },
  {
   "cell_type": "markdown",
   "id": "347203b3",
   "metadata": {
    "id": "347203b3"
   },
   "source": [
    "  "
   ]
  },
  {
   "cell_type": "markdown",
   "id": "7d5d360d",
   "metadata": {
    "id": "7d5d360d"
   },
   "source": [
    "   "
   ]
  },
  {
   "cell_type": "markdown",
   "id": "5ec08005",
   "metadata": {
    "id": "5ec08005"
   },
   "source": [
    "## Prepare Data\n",
    "\n",
    "### The Stock Price data composition - Introduction "
   ]
  },
  {
   "cell_type": "markdown",
   "id": "15a9523a",
   "metadata": {
    "id": "15a9523a"
   },
   "source": [
    "Stock price data come in several different [flavors](https://analyzingalpha.com/open-high-low-close-stocks). They are:\n",
    "\n",
    "- `Open`: Opening stock price at the beginning of the trading day\n",
    "- `Close`: Closing stock price at the end of the trading day\n",
    "- `High`: Highest stock price among the trading day\n",
    "- `Low`: Lowest stock price among the trading day\n",
    "- `Volume`: Total amount of trading activity \n",
    "\n",
    "The provided stock price data file contains the stock price data for **ONE** stock,             \n",
    "It has a record **each trading day**, for **10 years** from `2011-05-18` until `2021-05-18`           \n",
    "Erach record has these above mentioned attributes         .\n",
    " \n",
    "\n",
    "***   *NOTE: weekends and holidays are not trading days.*\n",
    "\n",
    "\n"
   ]
  },
  {
   "cell_type": "markdown",
   "id": "dc4cd7fb",
   "metadata": {
    "id": "dc4cd7fb"
   },
   "source": [
    "  "
   ]
  },
  {
   "cell_type": "markdown",
   "id": "7cca8177",
   "metadata": {
    "id": "7cca8177"
   },
   "source": [
    "### Load Data\n",
    "\n",
    "Load the provided stock price data\n",
    "\n",
    "  "
   ]
  },
  {
   "cell_type": "code",
   "execution_count": 2,
   "id": "4e25cd68",
   "metadata": {
    "id": "4e25cd68",
    "scrolled": false
   },
   "outputs": [],
   "source": [
    "## The URL of provided data\n",
    "DATA_URL = \"https://tinyurl.com/StockDataCSV\"\n",
    "\n",
    "data = pd.read_csv(DATA_URL) "
   ]
  },
  {
   "cell_type": "markdown",
   "id": "3ec6ff99",
   "metadata": {
    "id": "3ec6ff99"
   },
   "source": [
    "  "
   ]
  },
  {
   "cell_type": "markdown",
   "id": "a4fb690f",
   "metadata": {
    "id": "a4fb690f"
   },
   "source": [
    "###  Explore Data"
   ]
  },
  {
   "cell_type": "code",
   "execution_count": 3,
   "id": "aeac9f00",
   "metadata": {
    "colab": {
     "base_uri": "https://localhost:8080/"
    },
    "id": "aeac9f00",
    "outputId": "0dae313e-3d68-41e7-800e-93629aa9a5c1"
   },
   "outputs": [
    {
     "data": {
      "text/plain": [
       "(2428, 8)"
      ]
     },
     "execution_count": 3,
     "metadata": {},
     "output_type": "execute_result"
    }
   ],
   "source": [
    "data.shape  "
   ]
  },
  {
   "cell_type": "code",
   "execution_count": 4,
   "id": "35ac868e",
   "metadata": {
    "colab": {
     "base_uri": "https://localhost:8080/",
     "height": 0
    },
    "id": "35ac868e",
    "outputId": "5a36717e-ab80-4e33-c100-108b3422925f",
    "scrolled": true
   },
   "outputs": [
    {
     "data": {
      "text/html": [
       "<div>\n",
       "<style scoped>\n",
       "    .dataframe tbody tr th:only-of-type {\n",
       "        vertical-align: middle;\n",
       "    }\n",
       "\n",
       "    .dataframe tbody tr th {\n",
       "        vertical-align: top;\n",
       "    }\n",
       "\n",
       "    .dataframe thead th {\n",
       "        text-align: right;\n",
       "    }\n",
       "</style>\n",
       "<table border=\"1\" class=\"dataframe\">\n",
       "  <thead>\n",
       "    <tr style=\"text-align: right;\">\n",
       "      <th></th>\n",
       "      <th>Unnamed: 0</th>\n",
       "      <th>date</th>\n",
       "      <th>open</th>\n",
       "      <th>close</th>\n",
       "      <th>high</th>\n",
       "      <th>low</th>\n",
       "      <th>volume</th>\n",
       "      <th>code</th>\n",
       "    </tr>\n",
       "  </thead>\n",
       "  <tbody>\n",
       "    <tr>\n",
       "      <th>0</th>\n",
       "      <td>88</td>\n",
       "      <td>2011-05-18</td>\n",
       "      <td>120.646</td>\n",
       "      <td>125.574</td>\n",
       "      <td>127.178</td>\n",
       "      <td>120.646</td>\n",
       "      <td>62165.0</td>\n",
       "      <td>600519</td>\n",
       "    </tr>\n",
       "    <tr>\n",
       "      <th>1</th>\n",
       "      <td>89</td>\n",
       "      <td>2011-05-19</td>\n",
       "      <td>126.250</td>\n",
       "      <td>128.749</td>\n",
       "      <td>129.889</td>\n",
       "      <td>126.250</td>\n",
       "      <td>85738.0</td>\n",
       "      <td>600519</td>\n",
       "    </tr>\n",
       "    <tr>\n",
       "      <th>2</th>\n",
       "      <td>90</td>\n",
       "      <td>2011-05-20</td>\n",
       "      <td>129.277</td>\n",
       "      <td>129.361</td>\n",
       "      <td>129.896</td>\n",
       "      <td>128.060</td>\n",
       "      <td>40043.0</td>\n",
       "      <td>600519</td>\n",
       "    </tr>\n",
       "    <tr>\n",
       "      <th>3</th>\n",
       "      <td>91</td>\n",
       "      <td>2011-05-23</td>\n",
       "      <td>128.827</td>\n",
       "      <td>126.913</td>\n",
       "      <td>130.598</td>\n",
       "      <td>126.894</td>\n",
       "      <td>39420.0</td>\n",
       "      <td>600519</td>\n",
       "    </tr>\n",
       "    <tr>\n",
       "      <th>4</th>\n",
       "      <td>92</td>\n",
       "      <td>2011-05-24</td>\n",
       "      <td>125.934</td>\n",
       "      <td>125.355</td>\n",
       "      <td>127.216</td>\n",
       "      <td>125.284</td>\n",
       "      <td>23997.0</td>\n",
       "      <td>600519</td>\n",
       "    </tr>\n",
       "  </tbody>\n",
       "</table>\n",
       "</div>"
      ],
      "text/plain": [
       "   Unnamed: 0        date     open    close     high      low   volume    code\n",
       "0          88  2011-05-18  120.646  125.574  127.178  120.646  62165.0  600519\n",
       "1          89  2011-05-19  126.250  128.749  129.889  126.250  85738.0  600519\n",
       "2          90  2011-05-20  129.277  129.361  129.896  128.060  40043.0  600519\n",
       "3          91  2011-05-23  128.827  126.913  130.598  126.894  39420.0  600519\n",
       "4          92  2011-05-24  125.934  125.355  127.216  125.284  23997.0  600519"
      ]
     },
     "execution_count": 4,
     "metadata": {},
     "output_type": "execute_result"
    }
   ],
   "source": [
    "## Display first five rows in the `data` \n",
    "data.head(5)"
   ]
  },
  {
   "cell_type": "code",
   "execution_count": 5,
   "id": "c110ecc4",
   "metadata": {
    "colab": {
     "base_uri": "https://localhost:8080/",
     "height": 0
    },
    "id": "c110ecc4",
    "outputId": "3eada1bd-88f1-4144-ab71-a466fbab3a34",
    "scrolled": false
   },
   "outputs": [
    {
     "data": {
      "text/html": [
       "<div>\n",
       "<style scoped>\n",
       "    .dataframe tbody tr th:only-of-type {\n",
       "        vertical-align: middle;\n",
       "    }\n",
       "\n",
       "    .dataframe tbody tr th {\n",
       "        vertical-align: top;\n",
       "    }\n",
       "\n",
       "    .dataframe thead th {\n",
       "        text-align: right;\n",
       "    }\n",
       "</style>\n",
       "<table border=\"1\" class=\"dataframe\">\n",
       "  <thead>\n",
       "    <tr style=\"text-align: right;\">\n",
       "      <th></th>\n",
       "      <th>Unnamed: 0</th>\n",
       "      <th>date</th>\n",
       "      <th>open</th>\n",
       "      <th>close</th>\n",
       "      <th>high</th>\n",
       "      <th>low</th>\n",
       "      <th>volume</th>\n",
       "      <th>code</th>\n",
       "    </tr>\n",
       "  </thead>\n",
       "  <tbody>\n",
       "    <tr>\n",
       "      <th>2423</th>\n",
       "      <td>2511</td>\n",
       "      <td>2021-05-12</td>\n",
       "      <td>1949.08</td>\n",
       "      <td>1984.00</td>\n",
       "      <td>1999.00</td>\n",
       "      <td>1949.00</td>\n",
       "      <td>32699.0</td>\n",
       "      <td>600519</td>\n",
       "    </tr>\n",
       "    <tr>\n",
       "      <th>2424</th>\n",
       "      <td>2512</td>\n",
       "      <td>2021-05-13</td>\n",
       "      <td>1965.75</td>\n",
       "      <td>1971.50</td>\n",
       "      <td>1985.05</td>\n",
       "      <td>1953.00</td>\n",
       "      <td>25078.0</td>\n",
       "      <td>600519</td>\n",
       "    </tr>\n",
       "    <tr>\n",
       "      <th>2425</th>\n",
       "      <td>2513</td>\n",
       "      <td>2021-05-14</td>\n",
       "      <td>1982.00</td>\n",
       "      <td>2009.85</td>\n",
       "      <td>2030.50</td>\n",
       "      <td>1976.00</td>\n",
       "      <td>35611.0</td>\n",
       "      <td>600519</td>\n",
       "    </tr>\n",
       "    <tr>\n",
       "      <th>2426</th>\n",
       "      <td>2514</td>\n",
       "      <td>2021-05-17</td>\n",
       "      <td>2025.10</td>\n",
       "      <td>2057.96</td>\n",
       "      <td>2085.20</td>\n",
       "      <td>2025.10</td>\n",
       "      <td>44524.0</td>\n",
       "      <td>600519</td>\n",
       "    </tr>\n",
       "    <tr>\n",
       "      <th>2427</th>\n",
       "      <td>2515</td>\n",
       "      <td>2021-05-18</td>\n",
       "      <td>2065.00</td>\n",
       "      <td>2059.31</td>\n",
       "      <td>2077.00</td>\n",
       "      <td>2045.06</td>\n",
       "      <td>17504.0</td>\n",
       "      <td>600519</td>\n",
       "    </tr>\n",
       "  </tbody>\n",
       "</table>\n",
       "</div>"
      ],
      "text/plain": [
       "      Unnamed: 0        date     open    close     high      low   volume   \n",
       "2423        2511  2021-05-12  1949.08  1984.00  1999.00  1949.00  32699.0  \\\n",
       "2424        2512  2021-05-13  1965.75  1971.50  1985.05  1953.00  25078.0   \n",
       "2425        2513  2021-05-14  1982.00  2009.85  2030.50  1976.00  35611.0   \n",
       "2426        2514  2021-05-17  2025.10  2057.96  2085.20  2025.10  44524.0   \n",
       "2427        2515  2021-05-18  2065.00  2059.31  2077.00  2045.06  17504.0   \n",
       "\n",
       "        code  \n",
       "2423  600519  \n",
       "2424  600519  \n",
       "2425  600519  \n",
       "2426  600519  \n",
       "2427  600519  "
      ]
     },
     "execution_count": 5,
     "metadata": {},
     "output_type": "execute_result"
    }
   ],
   "source": [
    "data.tail(5)"
   ]
  },
  {
   "cell_type": "markdown",
   "id": "ae6d06c0",
   "metadata": {
    "id": "ae6d06c0"
   },
   "source": [
    "##### Display the chart of close price of this stock in 10 years span\n",
    "\n",
    "Executing the below code to gain a whole picture of all cloding stock price from all records."
   ]
  },
  {
   "cell_type": "code",
   "execution_count": 6,
   "id": "b0c5f4ac",
   "metadata": {
    "colab": {
     "base_uri": "https://localhost:8080/",
     "height": 0
    },
    "id": "b0c5f4ac",
    "outputId": "a4fa971b-57e1-4981-df6c-4cffaed97074"
   },
   "outputs": [
    {
     "data": {
      "image/png": "[encoded data removed]",
      "text/plain": [
       "<Figure size 640x480 with 1 Axes>"
      ]
     },
     "metadata": {},
     "output_type": "display_data"
    }
   ],
   "source": [
    "plt.plot(data['close'], color='green') \n",
    "plt.title('Prices of a stock from 2011-05-18 to 2021-05-18')\n",
    "plt.xlabel('# Trading Days')\n",
    "plt.ylabel('Stock Price') \n",
    "plt.show()"
   ]
  },
  {
   "cell_type": "markdown",
   "id": "01c93856",
   "metadata": {
    "id": "01c93856"
   },
   "source": [
    "  "
   ]
  },
  {
   "cell_type": "markdown",
   "id": "c81f0a9e",
   "metadata": {
    "id": "c81f0a9e"
   },
   "source": [
    "  "
   ]
  },
  {
   "cell_type": "markdown",
   "id": "04bbc8b5",
   "metadata": {
    "id": "04bbc8b5"
   },
   "source": [
    "### Preprocess the data"
   ]
  },
  {
   "cell_type": "markdown",
   "id": "0ebb7dae",
   "metadata": {
    "id": "0ebb7dae"
   },
   "source": [
    "##### Compose training data and test data by splitting the loaded data"
   ]
  },
  {
   "cell_type": "markdown",
   "id": "69f084a6",
   "metadata": {
    "id": "69f084a6"
   },
   "source": [
    "Let's use data of 9 yeas of trading days  for training, and 1 year of trading days' data for testing.\n",
    "\n",
    "Assume we have an average of **22 trading days per month**.\n",
    "   "
   ]
  },
  {
   "cell_type": "code",
   "execution_count": 7,
   "id": "d9882529",
   "metadata": {
    "colab": {
     "base_uri": "https://localhost:8080/"
    },
    "id": "d9882529",
    "outputId": "2b797c7a-83a3-4a50-ae9d-aaeba9e51866"
   },
   "outputs": [
    {
     "data": {
      "text/plain": [
       "0        125.574\n",
       "1        128.749\n",
       "2        129.361\n",
       "3        126.913\n",
       "4        125.355\n",
       "          ...   \n",
       "2423    1984.000\n",
       "2424    1971.500\n",
       "2425    2009.850\n",
       "2426    2057.960\n",
       "2427    2059.310\n",
       "Name: close, Length: 2428, dtype: float64"
      ]
     },
     "execution_count": 7,
     "metadata": {},
     "output_type": "execute_result"
    }
   ],
   "source": [
    "data.iloc[:,3]"
   ]
  },
  {
   "cell_type": "code",
   "execution_count": 8,
   "id": "71f05798",
   "metadata": {
    "id": "71f05798"
   },
   "outputs": [],
   "source": [
    "## Assign the number of records (i.e. trading days) available in the data, to the variable below: \n",
    "days_total = data.shape[0]\n",
    "\n",
    "\n",
    "## Assign the number of trading days of 1 year based on the assumption mentioned above (avg. 22 trading days per month), \n",
    "##   to the variable below: \n",
    "days_oneYear = 264 \n",
    "\n",
    " \n",
    "## Assign the column index to the variable below:\n",
    "idx = 3\n",
    "\n",
    "## data split for training\n",
    "data_train = data.iloc[0 : days_total-days_oneYear, idx:idx+1].values  \n",
    "\n",
    "## data split for test\n",
    "data_test  = data.iloc[days_total-days_oneYear: , idx:idx+1].values   \n"
   ]
  },
  {
   "cell_type": "code",
   "execution_count": 9,
   "id": "aed9d1c2",
   "metadata": {
    "colab": {
     "base_uri": "https://localhost:8080/"
    },
    "id": "aed9d1c2",
    "outputId": "a18a9755-55b5-4a5e-adba-e937b65564de"
   },
   "outputs": [
    {
     "data": {
      "text/plain": [
       "array([[ 125.574],\n",
       "       [ 128.749],\n",
       "       [ 129.361],\n",
       "       ...,\n",
       "       [1165.   ],\n",
       "       [1162.3  ],\n",
       "       [1185.1  ]])"
      ]
     },
     "execution_count": 9,
     "metadata": {},
     "output_type": "execute_result"
    }
   ],
   "source": [
    "data_train"
   ]
  },
  {
   "cell_type": "code",
   "execution_count": 10,
   "id": "94f51b3b",
   "metadata": {
    "colab": {
     "base_uri": "https://localhost:8080/"
    },
    "id": "94f51b3b",
    "outputId": "9c214e9a-c71a-4595-8b15-1362826ba8ff"
   },
   "outputs": [
    {
     "name": "stdout",
     "output_type": "stream",
     "text": [
      "<class 'numpy.ndarray'> <class 'numpy.ndarray'>\n"
     ]
    }
   ],
   "source": [
    "## Datatype of `data_train` and `data_test`\n",
    "print(type(data_train), type(data_test))"
   ]
  },
  {
   "cell_type": "code",
   "execution_count": 11,
   "id": "71f3abf2",
   "metadata": {
    "colab": {
     "base_uri": "https://localhost:8080/"
    },
    "id": "71f3abf2",
    "outputId": "b23b84c3-f6f3-4ef7-bd7a-bbdc08345cfa"
   },
   "outputs": [
    {
     "name": "stdout",
     "output_type": "stream",
     "text": [
      "2164 264\n"
     ]
    }
   ],
   "source": [
    "## Dimensions of the `data_train` and `data_test`\n",
    "print(len(data_train), len(data_test))"
   ]
  },
  {
   "cell_type": "markdown",
   "id": "d501e1a6",
   "metadata": {
    "id": "d501e1a6"
   },
   "source": [
    "##### Normalizing the data\n",
    "\n",
    "Now we need to define a scaler to normalize the data for boosting the model performance.\n"
   ]
  },
  {
   "cell_type": "code",
   "execution_count": 12,
   "id": "8d1fcb9f",
   "metadata": {
    "id": "8d1fcb9f"
   },
   "outputs": [],
   "source": [
    "## Create a `scaler` for scaling the data to be between 0 and 1\n",
    "\n",
    "scaler = MinMaxScaler(feature_range=(0, 1)) \n",
    "\n",
    "## calculate the `scaler` based on the training data     \n",
    "scaler.fit(data_train)  \n",
    "\n",
    "## Apply the `scaler` upon the training data to normalize the values of `data_train` being between 0 and 1  \n",
    "data_train_scaled = scaler.transform(data_train) "
   ]
  },
  {
   "cell_type": "markdown",
   "id": "392c96c8",
   "metadata": {
    "id": "392c96c8"
   },
   "source": [
    "  "
   ]
  },
  {
   "cell_type": "code",
   "execution_count": 14,
   "id": "376c77ff",
   "metadata": {
    "colab": {
     "base_uri": "https://localhost:8080/"
    },
    "id": "376c77ff",
    "outputId": "9abe385d-c2e3-4d3b-bbf1-04a9dc10f300"
   },
   "outputs": [
    {
     "data": {
      "text/plain": [
       "array([[0.03173788],\n",
       "       [0.03451201],\n",
       "       [0.03504675],\n",
       "       ...,\n",
       "       [0.9399301 ],\n",
       "       [0.93757099],\n",
       "       [0.95749235]])"
      ]
     },
     "execution_count": 14,
     "metadata": {},
     "output_type": "execute_result"
    }
   ],
   "source": [
    "data_train_scaled"
   ]
  },
  {
   "cell_type": "markdown",
   "id": "e3bc05a2",
   "metadata": {
    "id": "e3bc05a2"
   },
   "source": [
    "  "
   ]
  },
  {
   "cell_type": "markdown",
   "id": "712362c5",
   "metadata": {
    "id": "712362c5"
   },
   "source": [
    "  "
   ]
  },
  {
   "cell_type": "markdown",
   "id": "cdaeb97b",
   "metadata": {
    "id": "cdaeb97b"
   },
   "source": [
    "## Build architecture of your RNN model"
   ]
  },
  {
   "cell_type": "markdown",
   "id": "72b8acab",
   "metadata": {
    "id": "72b8acab"
   },
   "source": [
    "The basic building block of a neural network is the layer.\n",
    "\n",
    "You will configure each layer of your model, then compile the model.\n",
    "\n",
    "<br>\n",
    "<br>\n",
    "\n",
    "For this task you are required to chain together layers as the architecture of the RNN:\n",
    "\n",
    "  [3 types of `RNN layers`](https://www.tensorflow.org/guide/keras/rnn) can be implemented in Keras   \n",
    "\n",
    "   - [SimpleRNN](https://www.tensorflow.org/api_docs/python/tf/keras/layers/SimpleRNN)\n",
    "   - [LSTM](https://www.tensorflow.org/api_docs/python/tf/keras/layers/LSTM)\n",
    "   - [GRU](https://www.tensorflow.org/api_docs/python/tf/keras/layers/GRU)\n",
    " \n",
    "\n",
    "  [the `Dropout` layer](https://www.tensorflow.org/api_docs/python/tf/keras/layers/Dropout) can be used to improve model performance\n",
    "\n",
    "<br>\n",
    "<br>\n",
    "In the end, you will get one output from your model, representing the stock price of the following day, which is predicted based on the sequencial stock prices from the previous days.\n",
    "\n"
   ]
  },
  {
   "cell_type": "markdown",
   "id": "2bef49ed",
   "metadata": {
    "id": "2bef49ed"
   },
   "source": [
    "##### Stack and Configure layers"
   ]
  },
  {
   "cell_type": "code",
   "execution_count": 15,
   "id": "361e5770",
   "metadata": {
    "id": "361e5770"
   },
   "outputs": [
    {
     "name": "stderr",
     "output_type": "stream",
     "text": [
      "2023-07-06 17:43:33.725620: I tensorflow/core/platform/cpu_feature_guard.cc:193] This TensorFlow binary is optimized with oneAPI Deep Neural Network Library (oneDNN) to use the following CPU instructions in performance-critical operations:  SSE4.1 SSE4.2 AVX AVX2 FMA\n",
      "To enable them in other operations, rebuild TensorFlow with the appropriate compiler flags.\n"
     ]
    }
   ],
   "source": [
    "# Build a tf.keras.Sequential model by stacking layers as your RNN model\n",
    "\n",
    "model = keras.Sequential([\n",
    "    \n",
    "    layers.SimpleRNN(80, activation='tanh', return_sequences=True),     \n",
    "    \n",
    "    layers.Dropout(rate=0.2), \n",
    "    \n",
    "    layers.SimpleRNN(units=100, activation='tanh', return_sequences=True), \n",
    "    \n",
    "    layers.Dropout(rate=0.5),    \n",
    "    \n",
    "    layers.SimpleRNN(units=120, activation='tanh', return_sequences=False),  \n",
    "    \n",
    "    layers.Dropout(rate=0.5),   \n",
    "               \n",
    "    layers.Dense(units=1)      \n",
    " \n",
    "])\n",
    "\n"
   ]
  },
  {
   "cell_type": "markdown",
   "id": "783e6851",
   "metadata": {
    "id": "783e6851"
   },
   "source": [
    "##### Compile the model\n",
    "\n",
    "Before the model is ready for training, it needs a few more settings. These are to be added during the [model's compiling](https://www.tensorflow.org/api_docs/python/tf/keras/Model) step:\n",
    "\n",
    "- [Optimizer](https://www.tensorflow.org/api_docs/python/tf/keras/optimizers) : This is how the model is updated based on the data it sees and its loss function.\n",
    "- [Loss function](https://www.tensorflow.org/api_docs/python/tf/keras/losses) : This measures how accurate the model is during training. You want to minimize this function to \"steer\" the model in the right direction.\n",
    "- [Metrics](https://www.tensorflow.org/api_docs/python/tf/keras/metrics) : Used to monitor the training and testing steps.  "
   ]
  },
  {
   "cell_type": "code",
   "execution_count": 16,
   "id": "b6fb8782",
   "metadata": {
    "id": "b6fb8782"
   },
   "outputs": [],
   "source": [
    "my_learn_rate = 0.001\n",
    "my_optimizer = optimizers.Adam(learning_rate=my_learn_rate)\n",
    "\n",
    "model.compile(optimizer=my_optimizer,\n",
    "        loss=keras.losses.MeanSquaredError()\n",
    "        ) "
   ]
  },
  {
   "cell_type": "markdown",
   "id": "e31cfa1b",
   "metadata": {
    "id": "e31cfa1b"
   },
   "source": [
    "  "
   ]
  },
  {
   "cell_type": "markdown",
   "id": "1a089f0b",
   "metadata": {
    "id": "1a089f0b"
   },
   "source": [
    "  "
   ]
  },
  {
   "cell_type": "markdown",
   "id": "55010226",
   "metadata": {
    "id": "55010226"
   },
   "source": [
    "  "
   ]
  },
  {
   "cell_type": "markdown",
   "id": "567e3703",
   "metadata": {
    "id": "567e3703"
   },
   "source": [
    "## Fit/Train the model\n",
    "\n",
    "Train the model to fit the training dataset"
   ]
  },
  {
   "cell_type": "markdown",
   "id": "4acaaf8e",
   "metadata": {
    "id": "4acaaf8e"
   },
   "source": [
    "#### Compose traning dataset out of the data_train\n",
    "\n",
    "We design and apply **this schema** for stock price forcasting:             \n",
    "```\n",
    "Use the stock price of trading days in the past month to predict the stock price of next 1 day.\n",
    "```      \n",
    "\n",
    "* In another word, every `22 days` as `timesteps` to be 1 training record/sample, to train for the `1 next day` which serves as the corresponding label.     \n",
    "\n",
    "The training dataset will be composed by extracting all the qualified records/samples and their corresponding labels, accoridng to the above designed schema, from the previous splitted and processed training data `data_train_scaled`"
   ]
  },
  {
   "cell_type": "code",
   "execution_count": 17,
   "id": "ec6afce4",
   "metadata": {
    "id": "ec6afce4"
   },
   "outputs": [],
   "source": [
    "## Create lists to store extracted training record set and traning label set.\n",
    "pastDays_trainSet = []\n",
    "nextDay_trainSet = []\n",
    "\n",
    "## Assign the number of days used in one training record \n",
    "pastDaysRange = 22 \n",
    "\n",
    "## Loop to Extract all records/samples from `data_train_scaled` to form a training record set,\n",
    "##   do the same for all corresponding labels to form training label set,\n",
    "##   Each extraction has `pastDaysRange` days as one record, and 1 next day as label \n",
    "for nextDay in range(pastDaysRange, data_train_scaled.size):\n",
    "    pastDays_trainSet.append(data_train_scaled[nextDay-pastDaysRange : nextDay, 0])\n",
    "    nextDay_trainSet.append(data_train_scaled[nextDay, 0])\n",
    "\n",
    "## Convert the set lists to numpy array in order to work with model built in Keras \n",
    "pastDays_trainSet, nextDay_trainSet = np.array(pastDays_trainSet), np.array(nextDay_trainSet) \n"
   ]
  },
  {
   "cell_type": "markdown",
   "id": "10675a81",
   "metadata": {
    "id": "10675a81"
   },
   "source": [
    "Check the shape of the extracted record set and label set for training, according to their data type:"
   ]
  },
  {
   "cell_type": "code",
   "execution_count": 18,
   "id": "c594b701",
   "metadata": {
    "colab": {
     "base_uri": "https://localhost:8080/"
    },
    "id": "c594b701",
    "outputId": "b78a9b9a-0ef3-400b-cd43-f1c3d45d2eec"
   },
   "outputs": [
    {
     "name": "stdout",
     "output_type": "stream",
     "text": [
      "(2142, 22)\n",
      "(2142,)\n"
     ]
    }
   ],
   "source": [
    "## Check the dimensions of the training record set `pastDays_trainSet` and traning label set `nextDay_trainSet`\n",
    "print(pastDays_trainSet.shape)\n",
    "print(nextDay_trainSet.shape)"
   ]
  },
  {
   "cell_type": "markdown",
   "id": "f3d996c0",
   "metadata": {
    "id": "f3d996c0"
   },
   "source": [
    "##### Reshape the dimension of training record set\n",
    "\n",
    "Use a function of Numpy to reshape the training record set to satisfy the model accepted format `[#sample, #timesteps, #feature]` \n",
    "\n",
    "    * we are using only closing stock price as the training feature"
   ]
  },
  {
   "cell_type": "code",
   "execution_count": 19,
   "id": "36066a00",
   "metadata": {
    "id": "36066a00"
   },
   "outputs": [],
   "source": [
    "## Reshape `pastDays_trainSet`\n",
    "\n",
    "pastDays_trainSet = np.reshape(pastDays_trainSet, (-1, pastDaysRange, 1)) "
   ]
  },
  {
   "cell_type": "code",
   "execution_count": 20,
   "id": "AUpsDLW5NVWb",
   "metadata": {
    "colab": {
     "base_uri": "https://localhost:8080/"
    },
    "id": "AUpsDLW5NVWb",
    "outputId": "f9bbdf1e-b0b2-4140-b838-75210f34c67a"
   },
   "outputs": [
    {
     "name": "stdout",
     "output_type": "stream",
     "text": [
      "2142\n"
     ]
    }
   ],
   "source": [
    "print(pastDays_trainSet.shape[0])"
   ]
  },
  {
   "cell_type": "markdown",
   "id": "21f568d7",
   "metadata": {
    "id": "21f568d7"
   },
   "source": [
    "##### Construct the training dataset \n",
    "\n",
    "Create the training dataset `dataset_train` from both the training record set `pastDays_trainSet` and traning label set `nextDay_trainSet`         \n",
    "Then, Shuffle and Batch the `dataset_train` for the model"
   ]
  },
  {
   "cell_type": "code",
   "execution_count": 21,
   "id": "23d684bc",
   "metadata": {
    "id": "23d684bc"
   },
   "outputs": [],
   "source": [
    "## Construct a Tensorflow Dataset as training dataset composed by training record set and training label set.\n",
    "dataset_train = tf.data.Dataset.from_tensor_slices((pastDays_trainSet, nextDay_trainSet))       \n",
    "   \n",
    "    \n",
    "## Set number of records for the shuffle\n",
    "train_record_count = pastDays_trainSet.shape[0] \n",
    "\n",
    "## Decide a proper value of batch size for your model training \n",
    "train_batch_size = 15    \n",
    "\n",
    "## Randomly shuffle and batch the dataset\n",
    "dataset_train = dataset_train.shuffle(train_record_count).batch(train_batch_size) "
   ]
  },
  {
   "cell_type": "code",
   "execution_count": 22,
   "id": "Fr5pi18DQBFv",
   "metadata": {
    "colab": {
     "base_uri": "https://localhost:8080/"
    },
    "id": "Fr5pi18DQBFv",
    "outputId": "989ee245-b1e9-43e4-d394-67a8694ebe63"
   },
   "outputs": [
    {
     "data": {
      "text/plain": [
       "<BatchDataset element_spec=(TensorSpec(shape=(None, 22, 1), dtype=tf.float64, name=None), TensorSpec(shape=(None,), dtype=tf.float64, name=None))>"
      ]
     },
     "execution_count": 22,
     "metadata": {},
     "output_type": "execute_result"
    }
   ],
   "source": [
    "dataset_train"
   ]
  },
  {
   "cell_type": "markdown",
   "id": "7e7b4593",
   "metadata": {
    "id": "7e7b4593"
   },
   "source": [
    "   "
   ]
  },
  {
   "cell_type": "markdown",
   "id": "06d78e0f",
   "metadata": {
    "id": "06d78e0f"
   },
   "source": [
    "   "
   ]
  },
  {
   "cell_type": "markdown",
   "id": "10273401",
   "metadata": {
    "id": "10273401"
   },
   "source": [
    "#### Train your model\n",
    "Feed the train dataset to the model and let it  [fit to associate ](https://www.tensorflow.org/api_docs/python/tf/keras/Model)  stock prices of past days and stock price of next day"
   ]
  },
  {
   "cell_type": "code",
   "execution_count": 23,
   "id": "3f0d2fa6",
   "metadata": {
    "colab": {
     "base_uri": "https://localhost:8080/"
    },
    "id": "3f0d2fa6",
    "outputId": "c41b3fea-39bf-45d7-d840-3d69826fc412",
    "scrolled": false
   },
   "outputs": [
    {
     "name": "stdout",
     "output_type": "stream",
     "text": [
      "Epoch 1/25\n",
      "143/143 [==============================] - 4s 10ms/step - loss: 0.2946\n",
      "Epoch 2/25\n",
      "143/143 [==============================] - 1s 10ms/step - loss: 0.0787\n",
      "Epoch 3/25\n",
      "143/143 [==============================] - 1s 10ms/step - loss: 0.0416\n",
      "Epoch 4/25\n",
      "143/143 [==============================] - 1s 10ms/step - loss: 0.0246\n",
      "Epoch 5/25\n",
      "143/143 [==============================] - 1s 9ms/step - loss: 0.0168\n",
      "Epoch 6/25\n",
      "143/143 [==============================] - 1s 9ms/step - loss: 0.0143\n",
      "Epoch 7/25\n",
      "143/143 [==============================] - 1s 9ms/step - loss: 0.0119\n",
      "Epoch 8/25\n",
      "143/143 [==============================] - 1s 10ms/step - loss: 0.0094\n",
      "Epoch 9/25\n",
      "143/143 [==============================] - 1s 10ms/step - loss: 0.0078\n",
      "Epoch 10/25\n",
      "143/143 [==============================] - 1s 10ms/step - loss: 0.0063\n",
      "Epoch 11/25\n",
      "143/143 [==============================] - 1s 10ms/step - loss: 0.0052\n",
      "Epoch 12/25\n",
      "143/143 [==============================] - 1s 10ms/step - loss: 0.0051\n",
      "Epoch 13/25\n",
      "143/143 [==============================] - 1s 10ms/step - loss: 0.0044\n",
      "Epoch 14/25\n",
      "143/143 [==============================] - 1s 10ms/step - loss: 0.0047\n",
      "Epoch 15/25\n",
      "143/143 [==============================] - 2s 11ms/step - loss: 0.0037\n",
      "Epoch 16/25\n",
      "143/143 [==============================] - 2s 11ms/step - loss: 0.0034\n",
      "Epoch 17/25\n",
      "143/143 [==============================] - 1s 10ms/step - loss: 0.0039\n",
      "Epoch 18/25\n",
      "143/143 [==============================] - 1s 10ms/step - loss: 0.0033\n",
      "Epoch 19/25\n",
      "143/143 [==============================] - 1s 10ms/step - loss: 0.0027\n",
      "Epoch 20/25\n",
      "143/143 [==============================] - 2s 10ms/step - loss: 0.0027\n",
      "Epoch 21/25\n",
      "143/143 [==============================] - 1s 10ms/step - loss: 0.0026\n",
      "Epoch 22/25\n",
      "143/143 [==============================] - 1s 10ms/step - loss: 0.0028\n",
      "Epoch 23/25\n",
      "143/143 [==============================] - 1s 9ms/step - loss: 0.0029\n",
      "Epoch 24/25\n",
      "143/143 [==============================] - 1s 9ms/step - loss: 0.0022\n",
      "Epoch 25/25\n",
      "143/143 [==============================] - 1s 9ms/step - loss: 0.0025\n"
     ]
    },
    {
     "data": {
      "text/plain": [
       "<keras.callbacks.History at 0x7fe9be1c5b40>"
      ]
     },
     "execution_count": 23,
     "metadata": {},
     "output_type": "execute_result"
    }
   ],
   "source": [
    "## Decide a proper value of epoch for your model training \n",
    "epochs_count = 25 \n",
    "\n",
    "## Feed in the training dataset to train model\n",
    "model.fit(dataset_train, epochs=epochs_count) \n",
    " "
   ]
  },
  {
   "cell_type": "markdown",
   "id": "bf3499b5",
   "metadata": {
    "id": "bf3499b5"
   },
   "source": [
    " "
   ]
  },
  {
   "cell_type": "markdown",
   "id": "0addcabb",
   "metadata": {
    "id": "0addcabb"
   },
   "source": [
    "  "
   ]
  },
  {
   "cell_type": "markdown",
   "id": "09b2fcb3",
   "metadata": {
    "id": "09b2fcb3"
   },
   "source": [
    "##### Display the architecture of your model "
   ]
  },
  {
   "cell_type": "code",
   "execution_count": 24,
   "id": "f99b7808",
   "metadata": {
    "colab": {
     "base_uri": "https://localhost:8080/"
    },
    "id": "f99b7808",
    "outputId": "67c47c20-3ce2-48e6-8bb1-28441f4e57fd",
    "scrolled": false
   },
   "outputs": [
    {
     "name": "stdout",
     "output_type": "stream",
     "text": [
      "Model: \"sequential\"\n",
      "_________________________________________________________________\n",
      " Layer (type)                Output Shape              Param #   \n",
      "=================================================================\n",
      " simple_rnn (SimpleRNN)      (None, 22, 80)            6560      \n",
      "                                                                 \n",
      " dropout (Dropout)           (None, 22, 80)            0         \n",
      "                                                                 \n",
      " simple_rnn_1 (SimpleRNN)    (None, 22, 100)           18100     \n",
      "                                                                 \n",
      " dropout_1 (Dropout)         (None, 22, 100)           0         \n",
      "                                                                 \n",
      " simple_rnn_2 (SimpleRNN)    (None, 120)               26520     \n",
      "                                                                 \n",
      " dropout_2 (Dropout)         (None, 120)               0         \n",
      "                                                                 \n",
      " dense (Dense)               (None, 1)                 121       \n",
      "                                                                 \n",
      "=================================================================\n",
      "Total params: 51,301\n",
      "Trainable params: 51,301\n",
      "Non-trainable params: 0\n",
      "_________________________________________________________________\n"
     ]
    }
   ],
   "source": [
    "model.summary()\n"
   ]
  },
  {
   "cell_type": "markdown",
   "id": "fc58fb83",
   "metadata": {
    "id": "fc58fb83"
   },
   "source": [
    " "
   ]
  },
  {
   "cell_type": "markdown",
   "id": "40874051",
   "metadata": {
    "id": "40874051"
   },
   "source": [
    "## Evaluate/Test the trained model\n",
    "\n",
    "Evaluates your trained model based on the test dataset to see how the model performs, with your different tunning choices, to aim at reaching better performance"
   ]
  },
  {
   "cell_type": "markdown",
   "id": "accc735f",
   "metadata": {
    "id": "accc735f"
   },
   "source": [
    "#### Compose test dataset out of the `data_test`\n",
    "\n",
    "Apply the same data processing procedure (that has been applied in creating the `training dataset`) to generate `test dataset`\n",
    "\n",
    "The procedure would include some following steps:\n",
    "\n",
    "- You will need to **normalize** the test data by the same scaler calculated on the train data     \n",
    "\n",
    "- After then, **extract** test records and test labels from previously splitted test data, to get test record set and test label set           \n",
    "\n",
    "- You will also need to **reshape** the test record set to satisfy the model acceptable dimension, same as which has done for the training record set\n",
    "\n",
    "- Then **generate** the test dataset composed by test record set and test label set.\n",
    "\n",
    "- Have the test dataset **batched** for the model evaluation\n"
   ]
  },
  {
   "cell_type": "code",
   "execution_count": 25,
   "id": "95c06076",
   "metadata": {
    "colab": {
     "base_uri": "https://localhost:8080/"
    },
    "id": "95c06076",
    "outputId": "34ea1d88-6149-4254-95d6-bfd60c1a144e"
   },
   "outputs": [
    {
     "name": "stdout",
     "output_type": "stream",
     "text": [
      "(242, 22)\n"
     ]
    }
   ],
   "source": [
    "## Apply also the already calculated scaler to normalize the test data \n",
    "data_test_scaled=scaler.transform(data_test)  \n",
    "\n",
    "## Create lists to store extracted test record set and test label set.\n",
    "pastDays_testSet=[]\n",
    "nextDay_testSet=[] \n",
    " \n",
    "## Loop according to the same schema, to Extract all records/samples from `data_test_scaled` to form a test record set,\n",
    "##   do the same for all corresponding labels to form test label set,\n",
    "##   Each extraction has the same `pastDaysRange` days as one record, and 1 next day as label  \n",
    "for nextDay in range(pastDaysRange, data_test_scaled.size):\n",
    "    pastDays_testSet.append(data_test_scaled[nextDay-pastDaysRange : nextDay, 0])\n",
    "    nextDay_testSet.append(data_test_scaled[nextDay, 0])\n",
    "\n",
    "## Convert the test record and label set from lists datatype to numpy array in order to work with model built in Keras \n",
    "pastDays_testSet, nextDay_testSet = np.array(pastDays_testSet), np.array(nextDay_testSet) \n",
    "\n",
    "print(pastDays_testSet.shape)\n",
    "\n",
    "\n",
    "## Use a function of Numpy to reshape the test record set to satisfy the model accepted format `[#sample, #timesteps, #feature]` \n",
    "##   we are using only closing stock price as the training feature\n",
    "pastDays_testSet = np.reshape(pastDays_testSet, (-1, pastDaysRange, 1)) \n"
   ]
  },
  {
   "cell_type": "code",
   "execution_count": 26,
   "id": "-Yk--NKdYcG3",
   "metadata": {
    "colab": {
     "base_uri": "https://localhost:8080/"
    },
    "id": "-Yk--NKdYcG3",
    "outputId": "261a0cbc-a59b-4903-d3df-48ac1825f400"
   },
   "outputs": [
    {
     "data": {
      "text/plain": [
       "242"
      ]
     },
     "execution_count": 26,
     "metadata": {},
     "output_type": "execute_result"
    }
   ],
   "source": [
    "nextDay_testSet.shape[0]"
   ]
  },
  {
   "cell_type": "code",
   "execution_count": 27,
   "id": "ec4c03cd",
   "metadata": {
    "id": "ec4c03cd"
   },
   "outputs": [],
   "source": [
    "## Construct a Tensorflow Dataset as `test dataset` composed by test record set and test label set.  \n",
    "dataset_test = tf.data.Dataset.from_tensor_slices((pastDays_testSet, nextDay_testSet))   \n",
    "\n",
    "## Test dataset does not need shuffle, only need to have all in one batch\n",
    "## Decide a proper value of batch size to have all in one batch \n",
    "test_batch_size = nextDay_testSet.shape[0]    \n",
    "\n",
    "## Batch the test dataset \n",
    "dataset_test = dataset_test.batch(test_batch_size)  \n"
   ]
  },
  {
   "cell_type": "markdown",
   "id": "d2f3c728",
   "metadata": {
    "id": "d2f3c728"
   },
   "source": [
    "##### evaluate your trained model\n",
    "Feed the obtained test dataset to the model and   [evaluate](https://www.tensorflow.org/api_docs/python/tf/keras/Model) your model on the test dataset "
   ]
  },
  {
   "cell_type": "code",
   "execution_count": 28,
   "id": "ce608f93",
   "metadata": {
    "colab": {
     "base_uri": "https://localhost:8080/"
    },
    "id": "ce608f93",
    "outputId": "cf9c2e1c-c4a8-4e9d-fe76-aaf1c5786223",
    "scrolled": true
   },
   "outputs": [
    {
     "name": "stdout",
     "output_type": "stream",
     "text": [
      "1/1 [==============================] - 0s 320ms/step - loss: 0.0659\n"
     ]
    },
    {
     "data": {
      "text/plain": [
       "0.06589922308921814"
      ]
     },
     "execution_count": 28,
     "metadata": {},
     "output_type": "execute_result"
    }
   ],
   "source": [
    "## Evaluate model\n",
    "model.evaluate(dataset_test) \n"
   ]
  },
  {
   "cell_type": "markdown",
   "id": "6e9c5f6f",
   "metadata": {
    "id": "6e9c5f6f"
   },
   "source": [
    "##### Predict stock price on test record data\n",
    "\n",
    "Feed the test record set to the trained model to   [predict](https://www.tensorflow.org/api_docs/python/tf/keras/Model) the stock price in last year (i.e. the 1 year prepared as the test dataset."
   ]
  },
  {
   "cell_type": "code",
   "execution_count": 29,
   "id": "143a4002",
   "metadata": {
    "colab": {
     "base_uri": "https://localhost:8080/"
    },
    "id": "143a4002",
    "outputId": "66bf9510-b57e-4a51-8753-fd724792e439"
   },
   "outputs": [
    {
     "name": "stdout",
     "output_type": "stream",
     "text": [
      "8/8 [==============================] - 0s 4ms/step\n"
     ]
    }
   ],
   "source": [
    "## Predict on the test record set to compare with the test label set later \n",
    "predicted_stock_prices = model.predict(pastDays_testSet) \n"
   ]
  },
  {
   "cell_type": "markdown",
   "id": "3a71d25e",
   "metadata": {
    "id": "3a71d25e"
   },
   "source": [
    "##### inverse-scale the forcasted price\n",
    "\n",
    "Since the predicted prices are all scaled,      \n",
    "to obtain their values in the original scale for comparison with the real last year stock price,      \n",
    "we need to inverse scale them. \n"
   ]
  },
  {
   "cell_type": "code",
   "execution_count": 30,
   "id": "ab9b0ff4",
   "metadata": {
    "id": "ab9b0ff4"
   },
   "outputs": [],
   "source": [
    "## Apply the calculated scaler to inverse-scale the predicted price back to the original actual price scale\n",
    "predicted_stock_prices = scaler.inverse_transform(predicted_stock_prices)"
   ]
  },
  {
   "cell_type": "code",
   "execution_count": 31,
   "id": "a0a766d0",
   "metadata": {
    "id": "a0a766d0"
   },
   "outputs": [],
   "source": [
    "## Extract the original real stock price from splitted test data and slice to start at the same day of predicted prices\n",
    "real_stock_prices = data_test[pastDaysRange:]\n"
   ]
  },
  {
   "cell_type": "markdown",
   "id": "baa3860d",
   "metadata": {
    "id": "baa3860d"
   },
   "source": [
    "##### Comparative plot \n",
    "Plot the predicted results VS. the real label prices for comparison"
   ]
  },
  {
   "cell_type": "code",
   "execution_count": 32,
   "id": "66b8fe02",
   "metadata": {
    "colab": {
     "base_uri": "https://localhost:8080/",
     "height": 472
    },
    "id": "66b8fe02",
    "outputId": "b624318c-6554-4a55-d532-3a1ef660150c"
   },
   "outputs": [
    {
     "data": {
      "image/png": "[encoded data removed]",
      "text/plain": [
       "<Figure size 640x480 with 1 Axes>"
      ]
     },
     "metadata": {},
     "output_type": "display_data"
    }
   ],
   "source": [
    "## Plot the comparative chart\n",
    "plt.plot(real_stock_prices, color='green', label='Real Stock Price')\n",
    "plt.plot(predicted_stock_prices, color='blue', label='Forecasted Stock Price')\n",
    "plt.title('Stock Price Forecasted VS Real on test data')\n",
    "plt.xlabel('Time')\n",
    "plt.ylabel('Stock Price')\n",
    "plt.legend()\n",
    "plt.show()"
   ]
  }
 ],
 "metadata": {
  "accelerator": "GPU",
  "colab": {
   "gpuType": "T4",
   "provenance": []
  },
  "gpuClass": "standard",
  "kernelspec": {
   "display_name": "Python [conda env:TensorFlow2] *",
   "language": "python",
   "name": "conda-env-TensorFlow2-py"
  },
  "language_info": {
   "codemirror_mode": {
    "name": "ipython",
    "version": 3
   },
   "file_extension": ".py",
   "mimetype": "text/x-python",
   "name": "python",
   "nbconvert_exporter": "python",
   "pygments_lexer": "ipython3",
   "version": "3.10.10"
  }
 },
 "nbformat": 4,
 "nbformat_minor": 5
}

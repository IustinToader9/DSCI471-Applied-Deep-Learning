{
 "cells": [
  {
   "cell_type": "markdown",
   "id": "5abbbe63",
   "metadata": {
    "id": "5abbbe63"
   },
   "source": [
    "# 　　　　Build your `Convolutional Neural Network` for Deep Learning\n",
    "# 　　　　　　　　on Handwritten Digits `Classification` Task"
   ]
  },
  {
   "cell_type": "markdown",
   "id": "e07a8095",
   "metadata": {
    "id": "e07a8095"
   },
   "source": [
    " "
   ]
  },
  {
   "cell_type": "markdown",
   "id": "1c78a92d",
   "metadata": {
    "id": "1c78a92d"
   },
   "source": [
    " "
   ]
  },
  {
   "cell_type": "markdown",
   "id": "65107702",
   "metadata": {
    "id": "65107702"
   },
   "source": [
    " "
   ]
  },
  {
   "cell_type": "markdown",
   "id": "90c3cbb9",
   "metadata": {
    "id": "90c3cbb9"
   },
   "source": [
    "## Task Overview \n",
    "<img src=\"https://user-images.githubusercontent.com/68801296/88917938-4008f180-d286-11ea-8667-50027700e3ea.png\" width=\"500\">\n",
    "　　　　　　　　　　　　　　　　　　　　　　　　　　　　<strong>A Task Schema Diagram</strong>\n",
    "                                              \n",
    " \n",
    "You will resolve a `classification` task, which is to recognize by classifying the handwritten images of 10 digits into 10 categories, with a `Deep Learning model` of convolutional Neural Network (`CNN`). You will `design` the architecture of the network, `implement` with Python, and `train` your model on a large set of sample image data as a supervised learning procedure.\n",
    "\n",
    "The `TensorFlow 2.x` platform and its integrated version of `Keras API` (versus the traditional Keras Package) should be the handy tools for you to complete this task. Please take advantage of the official well supported TensorFlow & Keras [`Help Documentations`](https://www.tensorflow.org/api_docs/python/tf/keras)  for correct usages of the API and functions. \n",
    "\n",
    "Finally, you will `evaluate` your model's accuracy using test dataset."
   ]
  },
  {
   "cell_type": "markdown",
   "id": "a4cd074c",
   "metadata": {
    "id": "a4cd074c"
   },
   "source": [
    " "
   ]
  },
  {
   "cell_type": "markdown",
   "id": "66b9375e",
   "metadata": {
    "id": "66b9375e"
   },
   "source": [
    " "
   ]
  },
  {
   "cell_type": "markdown",
   "id": "9883b4ba",
   "metadata": {
    "id": "9883b4ba"
   },
   "source": [
    "## Setup Development Environment"
   ]
  },
  {
   "cell_type": "code",
   "execution_count": 1,
   "id": "a47d22f8",
   "metadata": {
    "id": "a47d22f8",
    "scrolled": false
   },
   "outputs": [
    {
     "name": "stderr",
     "output_type": "stream",
     "text": [
      "2023-07-05 17:10:43.112099: I tensorflow/core/platform/cpu_feature_guard.cc:193] This TensorFlow binary is optimized with oneAPI Deep Neural Network Library (oneDNN) to use the following CPU instructions in performance-critical operations:  SSE4.1 SSE4.2 AVX AVX2 FMA\n",
      "To enable them in other operations, rebuild TensorFlow with the appropriate compiler flags.\n"
     ]
    }
   ],
   "source": [
    "## Import related Modules for TensorFlow framework and Keras API\n",
    "\n",
    "import numpy as np\n",
    "\n",
    "import tensorflow as tf\n",
    "\n",
    "## import the integrated keras from tensorflow platform  \n",
    "\n",
    "from tensorflow import keras\n",
    "\n",
    "from tensorflow.keras import layers, optimizers"
   ]
  },
  {
   "cell_type": "markdown",
   "id": "5ec08005",
   "metadata": {
    "id": "5ec08005"
   },
   "source": [
    "## Prepare Dataset \n",
    "\n",
    "### The Image Dataset of MNIST Handwritten Digits - Introduction "
   ]
  },
  {
   "cell_type": "markdown",
   "id": "15a9523a",
   "metadata": {
    "id": "15a9523a"
   },
   "source": [
    "The [`MNIST`](http://yann.lecun.com/exdb/mnist/) database (Modified National Institute of Standards and Technology database) is a large database of handwritten digits that is widely used for training and testing Deep Learning Models.\n",
    "\n",
    "It is a dataset of `images` and corresponding `labels`. The images dataset contains small square images with pixels in grayscale, and each image present a handwritten single digits between 0 and 9. The corresponding labels indicate the actual digits written in the images.\n",
    "\n",
    "The Classification task is to identify and inclusively classify a given image of a handwritten digit into one of 10 classes representing integer digit from 0 to 9."
   ]
  },
  {
   "cell_type": "markdown",
   "id": "7cca8177",
   "metadata": {
    "id": "7cca8177"
   },
   "source": [
    "### Load Dataset\n",
    "\n",
    "Load the MNIST dataset distributed with Keras.\n",
    "  "
   ]
  },
  {
   "cell_type": "code",
   "execution_count": 3,
   "id": "2a4ac2f1",
   "metadata": {
    "colab": {
     "base_uri": "https://localhost:8080/"
    },
    "id": "2a4ac2f1",
    "outputId": "ccb846a0-d11d-4d39-8195-6c960026248c"
   },
   "outputs": [],
   "source": [
    "## Load the MNIST dataset \n",
    "mnist_dataset = keras.datasets.mnist\n",
    "\n",
    "## Split MNIST dataset to get the images and labels for both train and test sets \n",
    "(images_train, labels_train),(images_test, labels_test) = mnist_dataset.load_data()"
   ]
  },
  {
   "cell_type": "markdown",
   "id": "a4fb690f",
   "metadata": {
    "id": "a4fb690f"
   },
   "source": [
    "###  Explore Dataset"
   ]
  },
  {
   "cell_type": "markdown",
   "id": "3fc96015",
   "metadata": {
    "id": "3fc96015"
   },
   "source": [
    "The MNIST dataset loaded and splited from Keras returns 4 [`NumPy arrays`](https://www.tutorialspoint.com/numpy/numpy_array_attributes.htm) that are assigned to 4 variables respectively:\n",
    "\n",
    "- The images_train and labels_train arrays are the training dataset for your model to learn;\n",
    "\n",
    "- You will need the images_test and labels_test arrays to test/evaluate your model."
   ]
  },
  {
   "cell_type": "markdown",
   "id": "2f7093ad",
   "metadata": {
    "id": "2f7093ad"
   },
   "source": [
    "##### Find out dimensions of the dataset\n"
   ]
  },
  {
   "cell_type": "code",
   "execution_count": 4,
   "id": "91a3909d",
   "metadata": {
    "colab": {
     "base_uri": "https://localhost:8080/"
    },
    "id": "91a3909d",
    "outputId": "b01fc230-4111-4bb4-e274-95417d4bd200",
    "scrolled": true
   },
   "outputs": [
    {
     "name": "stdout",
     "output_type": "stream",
     "text": [
      "Dimension of train dataset: \n",
      " (60000, 28, 28)\n",
      "Dimension of test dataset: \n",
      " (10000, 28, 28)\n"
     ]
    }
   ],
   "source": [
    "images_train_dimension = images_train.shape   \n",
    "print(\"Dimension of train dataset: \\n\", images_train_dimension)\n",
    "\n",
    "images_test_dimension = images_test.shape   \n",
    "print(\"Dimension of test dataset: \\n\", images_test_dimension)"
   ]
  },
  {
   "cell_type": "markdown",
   "id": "1e04cd62",
   "metadata": {
    "id": "1e04cd62"
   },
   "source": [
    "##### Find out the range of pixel values in image"
   ]
  },
  {
   "cell_type": "code",
   "execution_count": 6,
   "id": "ee50e3fb",
   "metadata": {
    "colab": {
     "base_uri": "https://localhost:8080/"
    },
    "id": "ee50e3fb",
    "outputId": "a35ff3bd-63eb-4767-8a18-db7d5d42d729",
    "scrolled": true
   },
   "outputs": [
    {
     "name": "stdout",
     "output_type": "stream",
     "text": [
      "The range of pixel values of the images is: \n",
      " [0, 255]\n"
     ]
    }
   ],
   "source": [
    "print( \"The range of pixel values of the images is: \\n\", [np.min(images_train), np.max(images_train)] )   "
   ]
  },
  {
   "cell_type": "markdown",
   "id": "59b9364a",
   "metadata": {
    "id": "59b9364a"
   },
   "source": [
    "##### Find out the value of labels and their frequencies  "
   ]
  },
  {
   "cell_type": "code",
   "execution_count": 8,
   "id": "277d4b7f",
   "metadata": {
    "colab": {
     "base_uri": "https://localhost:8080/"
    },
    "id": "277d4b7f",
    "outputId": "f1793895-49b9-4922-cacf-e184b60f4513"
   },
   "outputs": [
    {
     "name": "stdout",
     "output_type": "stream",
     "text": [
      "The unique values of the labels in the dataset are: \n",
      " [0 1 2 3 4 5 6 7 8 9]\n",
      "The count of each label in the dataset are: \n",
      " [5923 6742 5958 6131 5842 5421 5918 6265 5851 5949]\n"
     ]
    }
   ],
   "source": [
    "(labels, counts) = np.unique(labels_train, return_counts=True)\n",
    "print( \"The unique values of the labels in the dataset are: \\n\", labels )\n",
    "print( \"The count of each label in the dataset are: \\n\", counts )"
   ]
  },
  {
   "cell_type": "markdown",
   "id": "120360dd",
   "metadata": {
    "id": "120360dd"
   },
   "source": [
    "##### Display a sample image \n",
    "get an idea of the kind of images your CNN is going to work with"
   ]
  },
  {
   "cell_type": "code",
   "execution_count": 9,
   "id": "fb0f2d2a",
   "metadata": {
    "colab": {
     "base_uri": "https://localhost:8080/",
     "height": 501
    },
    "id": "fb0f2d2a",
    "outputId": "59d89f2c-95bd-4e8a-fae4-8ad528c5a8e4",
    "scrolled": false
   },
   "outputs": [
    {
     "name": "stdout",
     "output_type": "stream",
     "text": [
      "The image of the 6th in train dataset is displayed below: \n",
      "\n",
      "The label for the second training image is: \n",
      " 2\n"
     ]
    },
    {
     "data": {
      "image/png": "[encoded data removed]",
      "text/plain": [
       "<Figure size 640x480 with 1 Axes>"
      ]
     },
     "metadata": {},
     "output_type": "display_data"
    }
   ],
   "source": [
    "## Display the 6th image from the train dataset \n",
    "\n",
    "idx_img = 5\n",
    "\n",
    "print(\"The image of the 6th in train dataset is displayed below: \\n\")\n",
    "\n",
    "import matplotlib.pyplot as plt\n",
    "\n",
    "plt.gray()   ## Set the colormap for showing the image as grayscale\n",
    "plt.imshow(images_train[idx_img])\n",
    "\n",
    "print(\"The label for the second training image is: \\n\", labels_train[idx_img])"
   ]
  },
  {
   "cell_type": "markdown",
   "id": "04bbc8b5",
   "metadata": {
    "id": "04bbc8b5"
   },
   "source": [
    "### Preprocess the data"
   ]
  },
  {
   "cell_type": "markdown",
   "id": "69f084a6",
   "metadata": {
    "id": "69f084a6"
   },
   "source": [
    "Create some functions that can be used to process the dataset as demanded before feed it in to train the network parameters.  \n",
    "\n",
    "The tensor of shape of an image's dimension is more formally described as (image_height, image_width, color_channels) instead of just (image_height, image_width), where color_channels refers to (R,G,B). For example, for one color image that has 3 color channels, its dimension would be (image_height, image_width, 3) \n",
    "\n",
    "Since the MNIST dataset contains images all in grayscale, so we can explicitly express that in its dimension for model training, by reshaping and adding the number of channels.\n",
    "\n",
    "We also need to map the image pixel value range from its original to the range of 0 to 1 in the float32 type to facilitate the parameter computations.\n",
    "   "
   ]
  },
  {
   "cell_type": "code",
   "execution_count": 11,
   "id": "4dc1f5f4",
   "metadata": {
    "id": "4dc1f5f4"
   },
   "outputs": [],
   "source": [
    "## Define a function that convert and rescale values of images and labels        \n",
    "\n",
    "def grayscale_converter(image, label):\n",
    "    \n",
    "    image = tf.cast(image, tf.float32)    ## Convert to enforce the values of image in floating-point number data type\n",
    "    label = tf.cast(label, tf.int64)      ## Convert to enforce the values of label in integer number data type\n",
    "    \n",
    "    image = image / 255    ## Rescale value of image pixels to a range of [0, 1] as gray level\n",
    "    \n",
    "    return image, label"
   ]
  },
  {
   "cell_type": "code",
   "execution_count": 12,
   "id": "8ca63f5c",
   "metadata": {
    "id": "8ca63f5c"
   },
   "outputs": [],
   "source": [
    "## Define a function that enforce the image color channel for grayscale image, \n",
    "##  and randomly sample the amount from preprocessed images and labels to prepare dataset that suit for the model        \n",
    "\n",
    "def preprocess_dataset(images, labels, count, batch_size):       \n",
    "    \n",
    "    ## Convert dimension of all images to enforce the grayscale of the dataset that has only one color channel\n",
    "    images_dimension = images.shape\n",
    "    images = images.reshape(images_dimension[0], images_dimension[1], images_dimension[2], 1)        \n",
    "     \n",
    "    ## Prepare dataset by packing randomly sampled and batched images and lables\n",
    "    dataset = tf.data.Dataset.from_tensor_slices((images, labels))    \n",
    "    dataset = dataset.map(grayscale_converter)    ## rescale images in dataset to a range of 0 to 1\n",
    "    dataset = dataset.take(count).shuffle(count).batch(batch_size)  ## randomly sample and batch the dataset\n",
    "    \n",
    "    return dataset\n"
   ]
  },
  {
   "cell_type": "markdown",
   "id": "cdaeb97b",
   "metadata": {
    "id": "cdaeb97b"
   },
   "source": [
    "## Build architecture of your CNN model"
   ]
  },
  {
   "cell_type": "markdown",
   "id": "72b8acab",
   "metadata": {
    "id": "72b8acab"
   },
   "source": [
    "The basic building block of a neural network is the layer.\n",
    "\n",
    "You will configure each layer of your model, then compiling the model.\n",
    "\n",
    "\n",
    "\n",
    "For this task you are required to chain together following layers as the architecture of the CNN:\n",
    "\n",
    "   - 2 [Convolutional layers](https://www.tensorflow.org/api_docs/python/tf/keras/layers/Conv2D) with [Max Pooling](https://www.tensorflow.org/api_docs/python/tf/keras/layers/MaxPool2D) for spatial hierarchy,\n",
    "\n",
    "   - 1 [Flatten layer](https://www.tensorflow.org/api_docs/python/tf/keras/layers/Flatten), and \n",
    "\n",
    "   - 2 [Dense layers](https://www.tensorflow.org/api_docs/python/tf/keras/layers/Dense) that end with a `Tanh` and `Softmax` activation respectively\n",
    "\n",
    "So in the end you get a multiclass probability distribution as the output from your model to classify the digit written in an image.\n",
    "\n",
    "\n"
   ]
  },
  {
   "cell_type": "markdown",
   "id": "2bef49ed",
   "metadata": {
    "id": "2bef49ed"
   },
   "source": [
    "##### Stack and Configure layers"
   ]
  },
  {
   "cell_type": "code",
   "execution_count": 13,
   "id": "361e5770",
   "metadata": {
    "id": "361e5770"
   },
   "outputs": [
    {
     "name": "stderr",
     "output_type": "stream",
     "text": [
      "2023-07-05 17:24:50.832634: I tensorflow/core/platform/cpu_feature_guard.cc:193] This TensorFlow binary is optimized with oneAPI Deep Neural Network Library (oneDNN) to use the following CPU instructions in performance-critical operations:  SSE4.1 SSE4.2 AVX AVX2 FMA\n",
      "To enable them in other operations, rebuild TensorFlow with the appropriate compiler flags.\n"
     ]
    }
   ],
   "source": [
    "# Build a tf.keras.Sequential model by stacking layers\n",
    "\n",
    "model = keras.Sequential([     \n",
    "\n",
    "    layers.Conv2D(32, (5, 5), input_shape=(28, 28, 1), activation='relu', padding='same') , \n",
    "    \n",
    "    layers.MaxPool2D(pool_size=2, strides=2),    \n",
    "    \n",
    "    layers.Conv2D(64, (5, 5), activation='relu', padding='same') ,\n",
    "    \n",
    "    layers.MaxPool2D(pool_size=2, strides=2) ,\n",
    "    \n",
    "    layers.Flatten(),         \n",
    "\n",
    "    layers.Dense(128, activation='tanh'),    \n",
    "    \n",
    "    layers.Dense(10, activation='softmax')  \n",
    "])\n"
   ]
  },
  {
   "cell_type": "markdown",
   "id": "09b2fcb3",
   "metadata": {
    "id": "09b2fcb3"
   },
   "source": [
    "##### Display the architecture of your model "
   ]
  },
  {
   "cell_type": "code",
   "execution_count": 14,
   "id": "f99b7808",
   "metadata": {
    "colab": {
     "base_uri": "https://localhost:8080/"
    },
    "id": "f99b7808",
    "outputId": "d9c0c025-164e-476e-e08f-174a0ef2b296",
    "scrolled": false
   },
   "outputs": [
    {
     "name": "stdout",
     "output_type": "stream",
     "text": [
      "Model: \"sequential\"\n",
      "_________________________________________________________________\n",
      " Layer (type)                Output Shape              Param #   \n",
      "=================================================================\n",
      " conv2d (Conv2D)             (None, 28, 28, 32)        832       \n",
      "                                                                 \n",
      " max_pooling2d (MaxPooling2D  (None, 14, 14, 32)       0         \n",
      " )                                                               \n",
      "                                                                 \n",
      " conv2d_1 (Conv2D)           (None, 14, 14, 64)        51264     \n",
      "                                                                 \n",
      " max_pooling2d_1 (MaxPooling  (None, 7, 7, 64)         0         \n",
      " 2D)                                                             \n",
      "                                                                 \n",
      " flatten (Flatten)           (None, 3136)              0         \n",
      "                                                                 \n",
      " dense (Dense)               (None, 128)               401536    \n",
      "                                                                 \n",
      " dense_1 (Dense)             (None, 10)                1290      \n",
      "                                                                 \n",
      "=================================================================\n",
      "Total params: 454,922\n",
      "Trainable params: 454,922\n",
      "Non-trainable params: 0\n",
      "_________________________________________________________________\n"
     ]
    }
   ],
   "source": [
    "model.summary()"
   ]
  },
  {
   "cell_type": "markdown",
   "id": "783e6851",
   "metadata": {
    "id": "783e6851"
   },
   "source": [
    "##### Compile the model\n",
    "\n",
    "Before the model is ready for training, it needs a few more settings. These are to be added during the [model's compiling](https://www.tensorflow.org/api_docs/python/tf/keras/Model) step:\n",
    "\n",
    "- [Optimizer](https://www.tensorflow.org/api_docs/python/tf/keras/optimizers) : This is how the model is updated based on the data it sees and its loss function.\n",
    "- [Loss function](https://www.tensorflow.org/api_docs/python/tf/keras/losses) : This measures how accurate the model is during training. You want to minimize this function to \"steer\" the model in the right direction.\n",
    "- [Metrics](https://www.tensorflow.org/api_docs/python/tf/keras/metrics) : Used to monitor the training and testing steps.  "
   ]
  },
  {
   "cell_type": "code",
   "execution_count": 15,
   "id": "b6fb8782",
   "metadata": {
    "id": "b6fb8782"
   },
   "outputs": [],
   "source": [
    "my_optimizer = optimizers.Adam(learning_rate=0.001)\n",
    "\n",
    "model.compile(\n",
    "    optimizer=my_optimizer,\n",
    "    loss=keras.losses.SparseCategoricalCrossentropy(),\n",
    "    metrics=['accuracy', 'mse']\n",
    ")\n"
   ]
  },
  {
   "cell_type": "markdown",
   "id": "567e3703",
   "metadata": {
    "id": "567e3703"
   },
   "source": [
    "## Fit/Train the model\n",
    "\n",
    "Train the model to fit the train dataset"
   ]
  },
  {
   "cell_type": "markdown",
   "id": "3e029773",
   "metadata": {
    "id": "3e029773"
   },
   "source": [
    "##### Obtain train dataset\n",
    "\n",
    "Apply the function previously defined for dataset preprocessing \n",
    "\n",
    "to Randomly sample 20,000 images and labels form the default train dataset "
   ]
  },
  {
   "cell_type": "code",
   "execution_count": 16,
   "id": "6f146eec",
   "metadata": {
    "id": "6f146eec"
   },
   "outputs": [],
   "source": [
    "## set required number of samples to be randomly taken from the original train dataset\n",
    "train_sample_count = 20000\n",
    "\n",
    "## Decide a proper value of batch size for your model training \n",
    "train_batch_size = 25   \n",
    "\n",
    "## Obtain the train dataset prepared using previously defined function\n",
    "dataset_train = preprocess_dataset(images_train, labels_train, train_sample_count, train_batch_size)      "
   ]
  },
  {
   "cell_type": "markdown",
   "id": "10273401",
   "metadata": {
    "id": "10273401"
   },
   "source": [
    "##### Train your model\n",
    "Feed the train dataset to the model and let it  [fit to associate images and labels](https://www.tensorflow.org/api_docs/python/tf/keras/Model)  "
   ]
  },
  {
   "cell_type": "code",
   "execution_count": 17,
   "id": "3f0d2fa6",
   "metadata": {
    "colab": {
     "base_uri": "https://localhost:8080/"
    },
    "id": "3f0d2fa6",
    "outputId": "9e5f9f6f-b4e5-4a1d-a9e5-cfd2bede4007",
    "scrolled": false
   },
   "outputs": [
    {
     "name": "stdout",
     "output_type": "stream",
     "text": [
      "Epoch 1/12\n",
      "800/800 [==============================] - 20s 24ms/step - loss: 0.1680 - accuracy: 0.9496 - mse: 27.3924\n",
      "Epoch 2/12\n",
      "800/800 [==============================] - 19s 24ms/step - loss: 0.0468 - accuracy: 0.9846 - mse: 27.3988\n",
      "Epoch 3/12\n",
      "800/800 [==============================] - 19s 23ms/step - loss: 0.0261 - accuracy: 0.9912 - mse: 27.3998\n",
      "Epoch 4/12\n",
      "800/800 [==============================] - 19s 23ms/step - loss: 0.0190 - accuracy: 0.9940 - mse: 27.4003\n",
      "Epoch 5/12\n",
      "800/800 [==============================] - 19s 24ms/step - loss: 0.0108 - accuracy: 0.9963 - mse: 27.4007\n",
      "Epoch 6/12\n",
      "800/800 [==============================] - 19s 24ms/step - loss: 0.0083 - accuracy: 0.9974 - mse: 27.4009\n",
      "Epoch 7/12\n",
      "800/800 [==============================] - 19s 24ms/step - loss: 0.0054 - accuracy: 0.9985 - mse: 27.4011\n",
      "Epoch 8/12\n",
      "800/800 [==============================] - 19s 24ms/step - loss: 0.0104 - accuracy: 0.9967 - mse: 27.4009\n",
      "Epoch 9/12\n",
      "800/800 [==============================] - 19s 24ms/step - loss: 0.0061 - accuracy: 0.9980 - mse: 27.4010\n",
      "Epoch 10/12\n",
      "800/800 [==============================] - 19s 24ms/step - loss: 0.0016 - accuracy: 0.9997 - mse: 27.4014\n",
      "Epoch 11/12\n",
      "800/800 [==============================] - 20s 25ms/step - loss: 4.6272e-04 - accuracy: 0.9999 - mse: 27.4015\n",
      "Epoch 12/12\n",
      "800/800 [==============================] - 19s 24ms/step - loss: 1.7950e-04 - accuracy: 0.9999 - mse: 27.4015\n"
     ]
    },
    {
     "data": {
      "text/plain": [
       "<keras.callbacks.History at 0x7f9a3b7f9ed0>"
      ]
     },
     "execution_count": 17,
     "metadata": {},
     "output_type": "execute_result"
    }
   ],
   "source": [
    "## Decide a proper value of epoch for your model training \n",
    "epochs_count = 12\n",
    "\n",
    "## Train model\n",
    "model.fit(dataset_train, epochs=epochs_count)"
   ]
  },
  {
   "cell_type": "markdown",
   "id": "832515a4",
   "metadata": {
    "id": "832515a4"
   },
   "source": [
    "## Tuning your Model\n",
    "\n",
    "Go back to adjust the values of hyperparameters such as `learning rate`, `batch size`, and `epochs` in your aboce codes, to improve and achieve an **accuracy more than 97%**"
   ]
  },
  {
   "cell_type": "markdown",
   "id": "40874051",
   "metadata": {
    "id": "40874051"
   },
   "source": [
    "## Evaluate/Test the trained model\n",
    "\n",
    "Evaluates your trained model based on the test dataset to see how the model performs on the test dataset after being trained to reach a good looking accuracy."
   ]
  },
  {
   "cell_type": "markdown",
   "id": "accc735f",
   "metadata": {
    "id": "accc735f"
   },
   "source": [
    "##### Obtain test dataset\n",
    "\n",
    "Apply the function previously defined for dataset preprocessing \n",
    "\n",
    "to randomly sample ALL number of images and labels form the `Original test dataset`"
   ]
  },
  {
   "cell_type": "code",
   "execution_count": 18,
   "id": "162ef7a3",
   "metadata": {
    "id": "162ef7a3"
   },
   "outputs": [],
   "source": [
    "## Set required number of samples to be randomly taken from the original test dataset\n",
    "test_sample_count = 10000 \n",
    "\n",
    "## Obtain the test dataset prepared using previously defined function\n",
    "dataset_test = preprocess_dataset(images_test, labels_test, test_sample_count, test_sample_count)   "
   ]
  },
  {
   "cell_type": "markdown",
   "id": "d2f3c728",
   "metadata": {
    "id": "d2f3c728"
   },
   "source": [
    "##### evaluate your trained model\n",
    "Feed the obtained test dataset to the model and   [evaluate the accuracy](https://www.tensorflow.org/api_docs/python/tf/keras/Model)   on the test dataset "
   ]
  },
  {
   "cell_type": "code",
   "execution_count": 19,
   "id": "ce608f93",
   "metadata": {
    "colab": {
     "base_uri": "https://localhost:8080/"
    },
    "id": "ce608f93",
    "outputId": "87732b3c-a266-420d-bd5b-125522ffdb63",
    "scrolled": true
   },
   "outputs": [
    {
     "name": "stdout",
     "output_type": "stream",
     "text": [
      "1/1 [==============================] - 2s 2s/step - loss: 0.0334 - accuracy: 0.9918 - mse: 27.3398\n"
     ]
    },
    {
     "data": {
      "text/plain": [
       "[0.033389050513505936, 0.9918000102043152, 27.339780807495117]"
      ]
     },
     "execution_count": 19,
     "metadata": {},
     "output_type": "execute_result"
    }
   ],
   "source": [
    "## Evaluate model\n",
    "model.evaluate(dataset_test)"
   ]
  },
  {
   "cell_type": "markdown",
   "id": "60fe4292",
   "metadata": {
    "id": "60fe4292"
   },
   "source": [
    " "
   ]
  },
  {
   "cell_type": "markdown",
   "id": "38d7ce12",
   "metadata": {
    "id": "38d7ce12"
   },
   "source": [
    " "
   ]
  },
  {
   "cell_type": "markdown",
   "id": "df4cdfdc",
   "metadata": {
    "id": "df4cdfdc"
   },
   "source": [
    " "
   ]
  },
  {
   "cell_type": "markdown",
   "id": "1999f6f6",
   "metadata": {
    "id": "1999f6f6"
   },
   "source": [
    "## Make prediction "
   ]
  },
  {
   "cell_type": "markdown",
   "id": "69d1a9c8",
   "metadata": {
    "id": "69d1a9c8"
   },
   "source": [
    "Pick one image from the MNIST dataset to see what digit your trained model predict, as it being classified to which of the 10 classes (0 to 9)."
   ]
  },
  {
   "cell_type": "code",
   "execution_count": 20,
   "id": "ade29557",
   "metadata": {
    "id": "ade29557"
   },
   "outputs": [],
   "source": [
    "## Pick the 2nd image from the original test images to feed into the trained model\n",
    "\n",
    "idx_img_predict = 1\n",
    "    \n",
    "image_predict = images_test[idx_img_predict]"
   ]
  },
  {
   "cell_type": "markdown",
   "id": "516a2136",
   "metadata": {
    "id": "516a2136"
   },
   "source": [
    "Preporcess the picked image with the same procedure applied on train images"
   ]
  },
  {
   "cell_type": "code",
   "execution_count": 21,
   "id": "3ad198f4",
   "metadata": {
    "id": "3ad198f4"
   },
   "outputs": [],
   "source": [
    "## Convert image dimension to explicitly indicate it has only one sample and only one color channel\n",
    "image_predict = image_predict.reshape((1,) + image_predict.shape + (1,)) \n",
    "\n",
    "## Convert image pixel values to floating-point number and rescale to [0,1]\n",
    "image_predict = tf.cast(image_predict, tf.float32) / 255    \n"
   ]
  },
  {
   "cell_type": "markdown",
   "id": "918df7f8",
   "metadata": {
    "id": "918df7f8"
   },
   "source": [
    "Feed the preprocessed image to the trained model to   [predict a result](https://www.tensorflow.org/api_docs/python/tf/keras/Model). "
   ]
  },
  {
   "cell_type": "code",
   "execution_count": 22,
   "id": "cb200401",
   "metadata": {
    "colab": {
     "base_uri": "https://localhost:8080/"
    },
    "id": "cb200401",
    "outputId": "200092bd-af4f-4bf2-82f2-938417ca6cd2"
   },
   "outputs": [
    {
     "name": "stdout",
     "output_type": "stream",
     "text": [
      "1/1 [==============================] - 0s 92ms/step\n",
      "prediction result is: \n",
      " [[8.5429690e-08 5.8301398e-06 9.9999392e-01 1.7752370e-08 1.4232463e-09\n",
      "  2.8234184e-11 4.3223359e-08 2.0273806e-08 6.4265677e-08 2.8386365e-10]]\n"
     ]
    }
   ],
   "source": [
    "## Predict on the picked image \n",
    "prediction = model.predict(image_predict)\n",
    "\n",
    "print(\"prediction result is: \\n\", prediction)"
   ]
  },
  {
   "cell_type": "markdown",
   "id": "eac529ad",
   "metadata": {
    "id": "eac529ad"
   },
   "source": [
    "[Interpret](https://numpy.org/doc/stable/reference/generated/numpy.argmax.html) the prediction by processing the multiclass result "
   ]
  },
  {
   "cell_type": "code",
   "execution_count": 23,
   "id": "90d3b193",
   "metadata": {
    "colab": {
     "base_uri": "https://localhost:8080/"
    },
    "id": "90d3b193",
    "outputId": "88926548-83cd-4bec-93ea-3d75c6aad119"
   },
   "outputs": [
    {
     "name": "stdout",
     "output_type": "stream",
     "text": [
      "The predicted digit number from this image is: \n",
      " 2\n"
     ]
    }
   ],
   "source": [
    "## Interpret the output from the Softmax activation function of the model to see what digit is predicted by your model \n",
    "print(\"The predicted digit number from this image is: \\n\", np.argmax(prediction))"
   ]
  },
  {
   "cell_type": "markdown",
   "id": "c4ca5618",
   "metadata": {
    "id": "c4ca5618"
   },
   "source": [
    "##### Compare the prediction with the provided data\n",
    "\n",
    "Display the picked image of prediction to have a visual comparison "
   ]
  },
  {
   "cell_type": "code",
   "execution_count": 24,
   "id": "8e8ce62b",
   "metadata": {
    "colab": {
     "base_uri": "https://localhost:8080/",
     "height": 448
    },
    "id": "8e8ce62b",
    "outputId": "8c3ffd2b-d009-4181-a91d-3071a547ffe3"
   },
   "outputs": [
    {
     "data": {
      "text/plain": [
       "<matplotlib.image.AxesImage at 0x7f9a2b9d1f30>"
      ]
     },
     "execution_count": 24,
     "metadata": {},
     "output_type": "execute_result"
    },
    {
     "data": {
      "image/png": "[encoded data removed]",
      "text/plain": [
       "<Figure size 640x480 with 1 Axes>"
      ]
     },
     "metadata": {},
     "output_type": "display_data"
    }
   ],
   "source": [
    "## Display the 2nd image from the original test images  \n",
    "plt.imshow(images_test[idx_img_predict])"
   ]
  },
  {
   "cell_type": "markdown",
   "id": "9c22c298",
   "metadata": {
    "id": "9c22c298"
   },
   "source": [
    "Compare the provided label from MNIST dataset associated with this image of prediction."
   ]
  },
  {
   "cell_type": "code",
   "execution_count": 25,
   "id": "e21b49b6",
   "metadata": {
    "colab": {
     "base_uri": "https://localhost:8080/"
    },
    "id": "e21b49b6",
    "outputId": "3c77152f-27ee-4b75-fdee-989c908d65ac"
   },
   "outputs": [
    {
     "name": "stdout",
     "output_type": "stream",
     "text": [
      "The provided label for this image is: \n",
      " 2\n"
     ]
    }
   ],
   "source": [
    " print(\"The provided label for this image is: \\n\", labels_test[idx_img_predict])"
   ]
  },
  {
   "cell_type": "code",
   "execution_count": null,
   "id": "35032349",
   "metadata": {
    "id": "35032349"
   },
   "outputs": [],
   "source": []
  }
 ],
 "metadata": {
  "accelerator": "GPU",
  "colab": {
   "provenance": []
  },
  "gpuClass": "standard",
  "kernelspec": {
   "display_name": "Python [conda env:TensorFlow2] *",
   "language": "python",
   "name": "conda-env-TensorFlow2-py"
  },
  "language_info": {
   "codemirror_mode": {
    "name": "ipython",
    "version": 3
   },
   "file_extension": ".py",
   "mimetype": "text/x-python",
   "name": "python",
   "nbconvert_exporter": "python",
   "pygments_lexer": "ipython3",
   "version": "3.10.10"
  }
 },
 "nbformat": 4,
 "nbformat_minor": 5
}
